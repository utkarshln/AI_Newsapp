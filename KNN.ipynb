{
  "nbformat": 4,
  "nbformat_minor": 0,
  "metadata": {
    "colab": {
      "name": "KNN",
      "provenance": [],
      "collapsed_sections": [],
      "authorship_tag": "ABX9TyM1ug+Fb9eRUBywqj1/qnde",
      "include_colab_link": true
    },
    "kernelspec": {
      "name": "python3",
      "display_name": "Python 3"
    }
  },
  "cells": [
    {
      "cell_type": "markdown",
      "metadata": {
        "id": "view-in-github",
        "colab_type": "text"
      },
      "source": [
        "<a href=\"https://colab.research.google.com/github/utkarshln/AI_Newsapp/blob/master/KNN.ipynb\" target=\"_parent\"><img src=\"https://colab.research.google.com/assets/colab-badge.svg\" alt=\"Open In Colab\"/></a>"
      ]
    },
    {
      "cell_type": "code",
      "metadata": {
        "id": "cT0NVDOAJOXw"
      },
      "source": [
        "import numpy as np\r\n",
        "import pandas as pd\r\n",
        "import matplotlib.pyplot as plt\r\n",
        "import seaborn as sns"
      ],
      "execution_count": 1,
      "outputs": []
    },
    {
      "cell_type": "code",
      "metadata": {
        "colab": {
          "base_uri": "https://localhost:8080/",
          "height": 212
        },
        "id": "Nl95-gTOJVvw",
        "outputId": "c5dc4d49-4f77-4c71-b3fe-c5bf41b58fbc"
      },
      "source": [
        "# importing the data from a csv file\r\n",
        "wine_df = pd.read_csv('/content/winequality-red.csv', sep = ';')\r\n",
        "\r\n",
        "# printing the first few rows of our data\r\n",
        "wine_df.head()"
      ],
      "execution_count": 2,
      "outputs": [
        {
          "output_type": "execute_result",
          "data": {
            "text/html": [
              "<div>\n",
              "<style scoped>\n",
              "    .dataframe tbody tr th:only-of-type {\n",
              "        vertical-align: middle;\n",
              "    }\n",
              "\n",
              "    .dataframe tbody tr th {\n",
              "        vertical-align: top;\n",
              "    }\n",
              "\n",
              "    .dataframe thead th {\n",
              "        text-align: right;\n",
              "    }\n",
              "</style>\n",
              "<table border=\"1\" class=\"dataframe\">\n",
              "  <thead>\n",
              "    <tr style=\"text-align: right;\">\n",
              "      <th></th>\n",
              "      <th>fixed acidity</th>\n",
              "      <th>volatile acidity</th>\n",
              "      <th>citric acid</th>\n",
              "      <th>residual sugar</th>\n",
              "      <th>chlorides</th>\n",
              "      <th>free sulfur dioxide</th>\n",
              "      <th>total sulfur dioxide</th>\n",
              "      <th>density</th>\n",
              "      <th>pH</th>\n",
              "      <th>sulphates</th>\n",
              "      <th>alcohol</th>\n",
              "      <th>quality</th>\n",
              "    </tr>\n",
              "  </thead>\n",
              "  <tbody>\n",
              "    <tr>\n",
              "      <th>0</th>\n",
              "      <td>7.4</td>\n",
              "      <td>0.70</td>\n",
              "      <td>0.00</td>\n",
              "      <td>1.9</td>\n",
              "      <td>0.076</td>\n",
              "      <td>11.0</td>\n",
              "      <td>34.0</td>\n",
              "      <td>0.9978</td>\n",
              "      <td>3.51</td>\n",
              "      <td>0.56</td>\n",
              "      <td>9.4</td>\n",
              "      <td>5</td>\n",
              "    </tr>\n",
              "    <tr>\n",
              "      <th>1</th>\n",
              "      <td>7.8</td>\n",
              "      <td>0.88</td>\n",
              "      <td>0.00</td>\n",
              "      <td>2.6</td>\n",
              "      <td>0.098</td>\n",
              "      <td>25.0</td>\n",
              "      <td>67.0</td>\n",
              "      <td>0.9968</td>\n",
              "      <td>3.20</td>\n",
              "      <td>0.68</td>\n",
              "      <td>9.8</td>\n",
              "      <td>5</td>\n",
              "    </tr>\n",
              "    <tr>\n",
              "      <th>2</th>\n",
              "      <td>7.8</td>\n",
              "      <td>0.76</td>\n",
              "      <td>0.04</td>\n",
              "      <td>2.3</td>\n",
              "      <td>0.092</td>\n",
              "      <td>15.0</td>\n",
              "      <td>54.0</td>\n",
              "      <td>0.9970</td>\n",
              "      <td>3.26</td>\n",
              "      <td>0.65</td>\n",
              "      <td>9.8</td>\n",
              "      <td>5</td>\n",
              "    </tr>\n",
              "    <tr>\n",
              "      <th>3</th>\n",
              "      <td>11.2</td>\n",
              "      <td>0.28</td>\n",
              "      <td>0.56</td>\n",
              "      <td>1.9</td>\n",
              "      <td>0.075</td>\n",
              "      <td>17.0</td>\n",
              "      <td>60.0</td>\n",
              "      <td>0.9980</td>\n",
              "      <td>3.16</td>\n",
              "      <td>0.58</td>\n",
              "      <td>9.8</td>\n",
              "      <td>6</td>\n",
              "    </tr>\n",
              "    <tr>\n",
              "      <th>4</th>\n",
              "      <td>7.4</td>\n",
              "      <td>0.70</td>\n",
              "      <td>0.00</td>\n",
              "      <td>1.9</td>\n",
              "      <td>0.076</td>\n",
              "      <td>11.0</td>\n",
              "      <td>34.0</td>\n",
              "      <td>0.9978</td>\n",
              "      <td>3.51</td>\n",
              "      <td>0.56</td>\n",
              "      <td>9.4</td>\n",
              "      <td>5</td>\n",
              "    </tr>\n",
              "  </tbody>\n",
              "</table>\n",
              "</div>"
            ],
            "text/plain": [
              "   fixed acidity  volatile acidity  citric acid  ...  sulphates  alcohol  quality\n",
              "0            7.4              0.70         0.00  ...       0.56      9.4        5\n",
              "1            7.8              0.88         0.00  ...       0.68      9.8        5\n",
              "2            7.8              0.76         0.04  ...       0.65      9.8        5\n",
              "3           11.2              0.28         0.56  ...       0.58      9.8        6\n",
              "4            7.4              0.70         0.00  ...       0.56      9.4        5\n",
              "\n",
              "[5 rows x 12 columns]"
            ]
          },
          "metadata": {
            "tags": []
          },
          "execution_count": 2
        }
      ]
    },
    {
      "cell_type": "code",
      "metadata": {
        "colab": {
          "base_uri": "https://localhost:8080/"
        },
        "id": "1pzlgBHKJh13",
        "outputId": "60e1d553-49e0-4cdd-b568-a93ce9c86baa"
      },
      "source": [
        "wine_df.info()"
      ],
      "execution_count": 3,
      "outputs": [
        {
          "output_type": "stream",
          "text": [
            "<class 'pandas.core.frame.DataFrame'>\n",
            "RangeIndex: 1599 entries, 0 to 1598\n",
            "Data columns (total 12 columns):\n",
            " #   Column                Non-Null Count  Dtype  \n",
            "---  ------                --------------  -----  \n",
            " 0   fixed acidity         1599 non-null   float64\n",
            " 1   volatile acidity      1599 non-null   float64\n",
            " 2   citric acid           1599 non-null   float64\n",
            " 3   residual sugar        1599 non-null   float64\n",
            " 4   chlorides             1599 non-null   float64\n",
            " 5   free sulfur dioxide   1599 non-null   float64\n",
            " 6   total sulfur dioxide  1599 non-null   float64\n",
            " 7   density               1599 non-null   float64\n",
            " 8   pH                    1599 non-null   float64\n",
            " 9   sulphates             1599 non-null   float64\n",
            " 10  alcohol               1599 non-null   float64\n",
            " 11  quality               1599 non-null   int64  \n",
            "dtypes: float64(11), int64(1)\n",
            "memory usage: 150.0 KB\n"
          ],
          "name": "stdout"
        }
      ]
    },
    {
      "cell_type": "code",
      "metadata": {
        "colab": {
          "base_uri": "https://localhost:8080/",
          "height": 338
        },
        "id": "reBEHYIJJl-2",
        "outputId": "0535873f-2c45-408f-b0d8-13623e2bc504"
      },
      "source": [
        "wine_df.describe()"
      ],
      "execution_count": 4,
      "outputs": [
        {
          "output_type": "execute_result",
          "data": {
            "text/html": [
              "<div>\n",
              "<style scoped>\n",
              "    .dataframe tbody tr th:only-of-type {\n",
              "        vertical-align: middle;\n",
              "    }\n",
              "\n",
              "    .dataframe tbody tr th {\n",
              "        vertical-align: top;\n",
              "    }\n",
              "\n",
              "    .dataframe thead th {\n",
              "        text-align: right;\n",
              "    }\n",
              "</style>\n",
              "<table border=\"1\" class=\"dataframe\">\n",
              "  <thead>\n",
              "    <tr style=\"text-align: right;\">\n",
              "      <th></th>\n",
              "      <th>fixed acidity</th>\n",
              "      <th>volatile acidity</th>\n",
              "      <th>citric acid</th>\n",
              "      <th>residual sugar</th>\n",
              "      <th>chlorides</th>\n",
              "      <th>free sulfur dioxide</th>\n",
              "      <th>total sulfur dioxide</th>\n",
              "      <th>density</th>\n",
              "      <th>pH</th>\n",
              "      <th>sulphates</th>\n",
              "      <th>alcohol</th>\n",
              "      <th>quality</th>\n",
              "    </tr>\n",
              "  </thead>\n",
              "  <tbody>\n",
              "    <tr>\n",
              "      <th>count</th>\n",
              "      <td>1599.000000</td>\n",
              "      <td>1599.000000</td>\n",
              "      <td>1599.000000</td>\n",
              "      <td>1599.000000</td>\n",
              "      <td>1599.000000</td>\n",
              "      <td>1599.000000</td>\n",
              "      <td>1599.000000</td>\n",
              "      <td>1599.000000</td>\n",
              "      <td>1599.000000</td>\n",
              "      <td>1599.000000</td>\n",
              "      <td>1599.000000</td>\n",
              "      <td>1599.000000</td>\n",
              "    </tr>\n",
              "    <tr>\n",
              "      <th>mean</th>\n",
              "      <td>8.319637</td>\n",
              "      <td>0.527821</td>\n",
              "      <td>0.270976</td>\n",
              "      <td>2.538806</td>\n",
              "      <td>0.087467</td>\n",
              "      <td>15.874922</td>\n",
              "      <td>46.467792</td>\n",
              "      <td>0.996747</td>\n",
              "      <td>3.311113</td>\n",
              "      <td>0.658149</td>\n",
              "      <td>10.422983</td>\n",
              "      <td>5.636023</td>\n",
              "    </tr>\n",
              "    <tr>\n",
              "      <th>std</th>\n",
              "      <td>1.741096</td>\n",
              "      <td>0.179060</td>\n",
              "      <td>0.194801</td>\n",
              "      <td>1.409928</td>\n",
              "      <td>0.047065</td>\n",
              "      <td>10.460157</td>\n",
              "      <td>32.895324</td>\n",
              "      <td>0.001887</td>\n",
              "      <td>0.154386</td>\n",
              "      <td>0.169507</td>\n",
              "      <td>1.065668</td>\n",
              "      <td>0.807569</td>\n",
              "    </tr>\n",
              "    <tr>\n",
              "      <th>min</th>\n",
              "      <td>4.600000</td>\n",
              "      <td>0.120000</td>\n",
              "      <td>0.000000</td>\n",
              "      <td>0.900000</td>\n",
              "      <td>0.012000</td>\n",
              "      <td>1.000000</td>\n",
              "      <td>6.000000</td>\n",
              "      <td>0.990070</td>\n",
              "      <td>2.740000</td>\n",
              "      <td>0.330000</td>\n",
              "      <td>8.400000</td>\n",
              "      <td>3.000000</td>\n",
              "    </tr>\n",
              "    <tr>\n",
              "      <th>25%</th>\n",
              "      <td>7.100000</td>\n",
              "      <td>0.390000</td>\n",
              "      <td>0.090000</td>\n",
              "      <td>1.900000</td>\n",
              "      <td>0.070000</td>\n",
              "      <td>7.000000</td>\n",
              "      <td>22.000000</td>\n",
              "      <td>0.995600</td>\n",
              "      <td>3.210000</td>\n",
              "      <td>0.550000</td>\n",
              "      <td>9.500000</td>\n",
              "      <td>5.000000</td>\n",
              "    </tr>\n",
              "    <tr>\n",
              "      <th>50%</th>\n",
              "      <td>7.900000</td>\n",
              "      <td>0.520000</td>\n",
              "      <td>0.260000</td>\n",
              "      <td>2.200000</td>\n",
              "      <td>0.079000</td>\n",
              "      <td>14.000000</td>\n",
              "      <td>38.000000</td>\n",
              "      <td>0.996750</td>\n",
              "      <td>3.310000</td>\n",
              "      <td>0.620000</td>\n",
              "      <td>10.200000</td>\n",
              "      <td>6.000000</td>\n",
              "    </tr>\n",
              "    <tr>\n",
              "      <th>75%</th>\n",
              "      <td>9.200000</td>\n",
              "      <td>0.640000</td>\n",
              "      <td>0.420000</td>\n",
              "      <td>2.600000</td>\n",
              "      <td>0.090000</td>\n",
              "      <td>21.000000</td>\n",
              "      <td>62.000000</td>\n",
              "      <td>0.997835</td>\n",
              "      <td>3.400000</td>\n",
              "      <td>0.730000</td>\n",
              "      <td>11.100000</td>\n",
              "      <td>6.000000</td>\n",
              "    </tr>\n",
              "    <tr>\n",
              "      <th>max</th>\n",
              "      <td>15.900000</td>\n",
              "      <td>1.580000</td>\n",
              "      <td>1.000000</td>\n",
              "      <td>15.500000</td>\n",
              "      <td>0.611000</td>\n",
              "      <td>72.000000</td>\n",
              "      <td>289.000000</td>\n",
              "      <td>1.003690</td>\n",
              "      <td>4.010000</td>\n",
              "      <td>2.000000</td>\n",
              "      <td>14.900000</td>\n",
              "      <td>8.000000</td>\n",
              "    </tr>\n",
              "  </tbody>\n",
              "</table>\n",
              "</div>"
            ],
            "text/plain": [
              "       fixed acidity  volatile acidity  ...      alcohol      quality\n",
              "count    1599.000000       1599.000000  ...  1599.000000  1599.000000\n",
              "mean        8.319637          0.527821  ...    10.422983     5.636023\n",
              "std         1.741096          0.179060  ...     1.065668     0.807569\n",
              "min         4.600000          0.120000  ...     8.400000     3.000000\n",
              "25%         7.100000          0.390000  ...     9.500000     5.000000\n",
              "50%         7.900000          0.520000  ...    10.200000     6.000000\n",
              "75%         9.200000          0.640000  ...    11.100000     6.000000\n",
              "max        15.900000          1.580000  ...    14.900000     8.000000\n",
              "\n",
              "[8 rows x 12 columns]"
            ]
          },
          "metadata": {
            "tags": []
          },
          "execution_count": 4
        }
      ]
    },
    {
      "cell_type": "code",
      "metadata": {
        "id": "52Awkg42Jq19"
      },
      "source": [
        "# step-1: Seperating the features set and the target array\r\n",
        "features = wine_df[['fixed acidity', 'volatile acidity', 'citric acid', 'residual sugar',\r\n",
        "       'chlorides', 'free sulfur dioxide', 'total sulfur dioxide', 'density',\r\n",
        "       'pH', 'sulphates', 'alcohol']] \r\n",
        "features = features.to_numpy() # converts feature set to numpy array\r\n",
        "target = wine_df['quality'].to_numpy() # converts target column to numpy array"
      ],
      "execution_count": 5,
      "outputs": []
    },
    {
      "cell_type": "code",
      "metadata": {
        "id": "ULIxOlv4JweN"
      },
      "source": [
        "# step-2: Function for standardizing data\r\n",
        "def standardScaler(feature_array):\r\n",
        "    \"\"\"Takes the numpy.ndarray object containing the features and performs standardization on the matrix.\r\n",
        "    The function iterates through each column and performs scaling on them individually.\r\n",
        "    \r\n",
        "    Args-\r\n",
        "        feature_array- Numpy array containing training features\r\n",
        "    \r\n",
        "    Returns-\r\n",
        "        feature_array- Standardized feature set\r\n",
        "    \"\"\"\r\n",
        "    \r\n",
        "    total_cols = feature_array.shape[1] # total number of columns \r\n",
        "    for i in range(total_cols): # iterating through each column\r\n",
        "        feature_col = feature_array[:, i]\r\n",
        "        mean = feature_col.mean() # mean stores mean value for the column\r\n",
        "        std = feature_col.std() # std stores standard deviation value for the column\r\n",
        "        feature_array[:, i] = (feature_array[:, i] - mean) / std # standard scaling of each element of the column\r\n",
        "    return feature_array"
      ],
      "execution_count": 7,
      "outputs": []
    },
    {
      "cell_type": "code",
      "metadata": {
        "colab": {
          "base_uri": "https://localhost:8080/"
        },
        "id": "hhfXuE5wJ1eG",
        "outputId": "0cfc6476-104c-4945-a385-0cd266562b7d"
      },
      "source": [
        "# step-3: Performing standardization on our feature set\r\n",
        "features_scaled = standardScaler(features) \r\n",
        "features_scaled"
      ],
      "execution_count": 8,
      "outputs": [
        {
          "output_type": "execute_result",
          "data": {
            "text/plain": [
              "array([[-0.52835961,  0.96187667, -1.39147228, ...,  1.28864292,\n",
              "        -0.57920652, -0.96024611],\n",
              "       [-0.29854743,  1.96744245, -1.39147228, ..., -0.7199333 ,\n",
              "         0.1289504 , -0.58477711],\n",
              "       [-0.29854743,  1.29706527, -1.18607043, ..., -0.33117661,\n",
              "        -0.04808883, -0.58477711],\n",
              "       ...,\n",
              "       [-1.1603431 , -0.09955388, -0.72391627, ...,  0.70550789,\n",
              "         0.54204194,  0.54162988],\n",
              "       [-1.39015528,  0.65462046, -0.77526673, ...,  1.6773996 ,\n",
              "         0.30598963, -0.20930812],\n",
              "       [-1.33270223, -1.21684919,  1.02199944, ...,  0.51112954,\n",
              "         0.01092425,  0.54162988]])"
            ]
          },
          "metadata": {
            "tags": []
          },
          "execution_count": 8
        }
      ]
    },
    {
      "cell_type": "code",
      "metadata": {
        "colab": {
          "base_uri": "https://localhost:8080/",
          "height": 350
        },
        "id": "EzozR7LdJ748",
        "outputId": "db46094e-7c28-4c7a-af55-b7b9c15830d5"
      },
      "source": [
        "sns.countplot('quality', data=wine_df)"
      ],
      "execution_count": 9,
      "outputs": [
        {
          "output_type": "stream",
          "text": [
            "/usr/local/lib/python3.6/dist-packages/seaborn/_decorators.py:43: FutureWarning: Pass the following variable as a keyword arg: x. From version 0.12, the only valid positional argument will be `data`, and passing other arguments without an explicit keyword will result in an error or misinterpretation.\n",
            "  FutureWarning\n"
          ],
          "name": "stderr"
        },
        {
          "output_type": "execute_result",
          "data": {
            "text/plain": [
              "<matplotlib.axes._subplots.AxesSubplot at 0x7f4e8a374f60>"
            ]
          },
          "metadata": {
            "tags": []
          },
          "execution_count": 9
        },
        {
          "output_type": "display_data",
          "data": {
            "image/png": "[encoded data removed]",
            "text/plain": [
              "<Figure size 432x288 with 1 Axes>"
            ]
          },
          "metadata": {
            "tags": [],
            "needs_background": "light"
          }
        }
      ]
    },
    {
      "cell_type": "code",
      "metadata": {
        "id": "YLgQrNavJ-E_"
      },
      "source": [
        "def train_test_split(features, target, test_size = 0.2):\r\n",
        "    \"\"\"Splits dataset into training and testing sets.\r\n",
        "    \r\n",
        "    Args- \r\n",
        "        features- The feature matrix of the dataset (numpy array)\r\n",
        "        target- The target array (numpy array)\r\n",
        "        test_size- Size of test dataset that you want\r\n",
        "    \r\n",
        "    Returns-\r\n",
        "        train_features, train_target, test_features, test_target \r\n",
        "    \"\"\"\r\n",
        "    num_total_rows = features.shape[0] # total rows in the dataset\r\n",
        "    num_test_rows = np.round(num_total_rows * test_size) # total rows in testing dataset\r\n",
        "    rand_row_num = np.random.randint(0, int(num_total_rows), int(num_test_rows)) # randomly generated row numbers\r\n",
        "    \r\n",
        "    # train and test features\r\n",
        "    test_features = np.array([features[i] for i in rand_row_num]) # creates test feature set\r\n",
        "    train_features = np.delete(features, rand_row_num, axis = 0) # deletes test data rows from main dataset; making it training dataset\r\n",
        "\r\n",
        "    # train and test target\r\n",
        "    test_target = np.array([target[i] for i in rand_row_num]) # creates test target set\r\n",
        "    train_target = np.delete(target, rand_row_num, axis = 0) # creates training target set\r\n",
        "    \r\n",
        "    return train_features, train_target, test_features, test_target "
      ],
      "execution_count": 10,
      "outputs": []
    },
    {
      "cell_type": "code",
      "metadata": {
        "colab": {
          "base_uri": "https://localhost:8080/"
        },
        "id": "lfzwUVk7KDMz",
        "outputId": "349e7751-c07d-4f98-f2c5-5738589a8c9a"
      },
      "source": [
        "# running split function on our dataset\r\n",
        "X_train, y_train, X_test, y_test = train_test_split(features, target, test_size = 0.2)\r\n",
        "\r\n",
        "# printing the shape of the splits\r\n",
        "X_train.shape, y_train.shape, X_test.shape, y_test.shape"
      ],
      "execution_count": 11,
      "outputs": [
        {
          "output_type": "execute_result",
          "data": {
            "text/plain": [
              "((1307, 11), (1307,), (320, 11), (320,))"
            ]
          },
          "metadata": {
            "tags": []
          },
          "execution_count": 11
        }
      ]
    },
    {
      "cell_type": "code",
      "metadata": {
        "id": "vi0RVY0iKHcm"
      },
      "source": [
        "def euclidean_dist(pointA, pointB):\r\n",
        "    \"\"\"Calculates the euclidean distance between two vectors (numpy arrays).\r\n",
        "\r\n",
        "    Args-\r\n",
        "        pointA- First vector\r\n",
        "        pointB- Second vector\r\n",
        "    Returns-\r\n",
        "        distance- Euclidean distance between A and B\r\n",
        "    \"\"\"\r\n",
        "    distance = np.square(pointA - pointB) # (ai-bi)**2 for every point in the vectors\r\n",
        "    distance = np.sum(distance) # adds all values\r\n",
        "    distance = np.sqrt(distance) \r\n",
        "    return distance"
      ],
      "execution_count": 13,
      "outputs": []
    },
    {
      "cell_type": "code",
      "metadata": {
        "id": "VggKNGloKMzY"
      },
      "source": [
        "def distance_from_all_training(test_point):\r\n",
        "    \"\"\"Calculates euclidean distance of test point from all the points in the training dataset\r\n",
        "\r\n",
        "    Args- \r\n",
        "        test_point- Data point from test set\r\n",
        "    Returns- \r\n",
        "        dist_array- Array holding distance values for all training data points \r\n",
        "    \"\"\"\r\n",
        "    dist_array = np.array([])\r\n",
        "    for train_point in X_train:\r\n",
        "        dist = euclidean_dist(test_point, train_point)\r\n",
        "        dist_array = np.append(dist_array, dist)\r\n",
        "    return dist_array"
      ],
      "execution_count": 14,
      "outputs": []
    },
    {
      "cell_type": "code",
      "metadata": {
        "colab": {
          "base_uri": "https://localhost:8080/"
        },
        "id": "kfhx_fkdKQKg",
        "outputId": "1fbdcd72-3721-4799-8ff7-28e34319dcfd"
      },
      "source": [
        "dist_array = distance_from_all_training(X_test[0])\r\n",
        "dist_array"
      ],
      "execution_count": 15,
      "outputs": [
        {
          "output_type": "execute_result",
          "data": {
            "text/plain": [
              "array([5.77900469, 6.2429907 , 5.46978024, ..., 5.59743131, 6.46269322,\n",
              "       4.76377494])"
            ]
          },
          "metadata": {
            "tags": []
          },
          "execution_count": 15
        }
      ]
    },
    {
      "cell_type": "code",
      "metadata": {
        "id": "NWehtZsGKU9G"
      },
      "source": [
        "def KNNClassifier(train_features, train_target, test_features, k = 5):\r\n",
        "    \"\"\"Performs KNN classification on the test feature set.\r\n",
        "    Args- \r\n",
        "        train_features- This denotes the feature set of the training data\r\n",
        "        train_target- Target lables of the training data\r\n",
        "        test_features- Feature set of the test data; assumed unlabeled\r\n",
        "        k (default = 5)- Number of closest neighboring training data points to be considered\r\n",
        "    Returns-\r\n",
        "        predictions- Array of target predictions for each test data instance \r\n",
        "    \"\"\"\r\n",
        "    predictions = np.array([])\r\n",
        "    train_target = train_target.reshape(-1,1)\r\n",
        "    for test_point in test_features: # iterating through every test data point \r\n",
        "        dist_array = distance_from_all_training(test_point).reshape(-1,1) # calculating distance from every training data instance\r\n",
        "        neighbors = np.concatenate((dist_array, train_target), axis = 1) \r\n",
        "        neighbors_sorted = neighbors[neighbors[:, 0].argsort()] # sorts training points on the basis of distance\r\n",
        "        k_neighbors = neighbors_sorted[:k] # selects k-nearest neighbors\r\n",
        "        frequency = np.unique(k_neighbors[:, 1], return_counts=True)\r\n",
        "        target_class = frequency[0][frequency[1].argmax()] # selects label with highest frequency\r\n",
        "        predictions = np.append(predictions, target_class)\r\n",
        "    \r\n",
        "    return predictions"
      ],
      "execution_count": 17,
      "outputs": []
    },
    {
      "cell_type": "code",
      "metadata": {
        "colab": {
          "base_uri": "https://localhost:8080/"
        },
        "id": "8SgU0VkRKaBv",
        "outputId": "4bc9638a-7660-471d-ea11-9abdcfd04f76"
      },
      "source": [
        "# running inference on the test data\r\n",
        "test_predictions = KNNClassifier(X_train, y_train, X_test, k = 5)\r\n",
        "test_predictions"
      ],
      "execution_count": 18,
      "outputs": [
        {
          "output_type": "execute_result",
          "data": {
            "text/plain": [
              "array([6., 4., 5., 6., 6., 5., 5., 6., 5., 6., 5., 6., 6., 5., 6., 5., 6.,\n",
              "       5., 6., 5., 5., 6., 6., 6., 5., 6., 5., 5., 6., 6., 5., 6., 5., 5.,\n",
              "       6., 5., 5., 6., 6., 6., 7., 5., 6., 5., 6., 5., 6., 6., 5., 5., 6.,\n",
              "       7., 5., 6., 7., 5., 6., 5., 5., 5., 6., 7., 6., 6., 6., 6., 6., 5.,\n",
              "       7., 5., 6., 5., 5., 7., 5., 6., 6., 4., 5., 5., 5., 6., 5., 5., 6.,\n",
              "       5., 6., 6., 6., 6., 5., 5., 5., 6., 6., 6., 6., 5., 5., 5., 5., 6.,\n",
              "       7., 7., 5., 6., 5., 6., 6., 6., 6., 5., 6., 5., 6., 5., 5., 6., 5.,\n",
              "       5., 6., 5., 4., 5., 6., 6., 5., 5., 7., 6., 6., 6., 5., 5., 5., 6.,\n",
              "       5., 6., 6., 6., 6., 5., 5., 6., 6., 4., 6., 5., 5., 6., 5., 7., 7.,\n",
              "       7., 7., 5., 5., 5., 5., 5., 6., 6., 5., 5., 5., 6., 6., 7., 5., 7.,\n",
              "       5., 6., 5., 5., 6., 7., 5., 5., 6., 5., 6., 5., 5., 5., 6., 6., 5.,\n",
              "       6., 7., 6., 5., 5., 7., 7., 7., 6., 6., 6., 6., 6., 6., 5., 6., 5.,\n",
              "       5., 5., 6., 5., 6., 6., 5., 6., 6., 7., 6., 6., 5., 6., 5., 6., 6.,\n",
              "       5., 5., 5., 5., 5., 6., 7., 6., 5., 6., 5., 6., 5., 5., 5., 6., 6.,\n",
              "       6., 5., 5., 6., 5., 7., 6., 6., 6., 6., 5., 5., 6., 6., 5., 5., 5.,\n",
              "       5., 5., 5., 5., 5., 5., 6., 5., 6., 5., 6., 7., 7., 5., 6., 6., 5.,\n",
              "       7., 4., 6., 5., 5., 5., 5., 6., 6., 5., 5., 5., 5., 5., 5., 6., 5.,\n",
              "       5., 6., 4., 5., 5., 5., 5., 6., 5., 5., 6., 6., 5., 5., 5., 6., 6.,\n",
              "       4., 5., 6., 6., 7., 6., 5., 5., 6., 6., 5., 5., 5., 5.])"
            ]
          },
          "metadata": {
            "tags": []
          },
          "execution_count": 18
        }
      ]
    },
    {
      "cell_type": "code",
      "metadata": {
        "id": "xlBHnVkTKgS8"
      },
      "source": [
        "def accuracy(y_test, y_preds):\r\n",
        "    \"\"\"Calculates inference accuracy of the model.\r\n",
        "    \r\n",
        "    Args-\r\n",
        "        y_test- Original target labels of the test set\r\n",
        "        y_preds- Predicted target lables\r\n",
        "    Returns-\r\n",
        "        acc\r\n",
        "    \"\"\"\r\n",
        "    total_correct = 0\r\n",
        "    for i in range(len(y_test)):\r\n",
        "        if int(y_test[i]) == int(y_preds[i]):\r\n",
        "            total_correct += 1\r\n",
        "    acc = total_correct/len(y_test)\r\n",
        "    return acc"
      ],
      "execution_count": 19,
      "outputs": []
    },
    {
      "cell_type": "code",
      "metadata": {
        "colab": {
          "base_uri": "https://localhost:8080/"
        },
        "id": "dm3VXZfvKk9g",
        "outputId": "0d410eda-c4a3-46ef-a993-a39c08bb6be9"
      },
      "source": [
        "acc = accuracy(y_test, test_predictions)\r\n",
        "print('Model accuracy (Scratch) = ', acc*100)"
      ],
      "execution_count": 20,
      "outputs": [
        {
          "output_type": "stream",
          "text": [
            "Model accuracy (Scratch) =  57.49999999999999\n"
          ],
          "name": "stdout"
        }
      ]
    },
    {
      "cell_type": "code",
      "metadata": {
        "colab": {
          "base_uri": "https://localhost:8080/"
        },
        "id": "VGT91p6HKo1P",
        "outputId": "22c28945-c36f-463e-9137-761794584c5d"
      },
      "source": [
        "from sklearn.neighbors import KNeighborsClassifier as KNN\r\n",
        "\r\n",
        "model = KNN()\r\n",
        "model.fit(X_train, y_train)\r\n",
        "preds = model.predict(X_test)\r\n",
        "\r\n",
        "acc = accuracy(y_test, preds)\r\n",
        "print('Model accuracy (Sklearn) = ', acc*100)"
      ],
      "execution_count": 21,
      "outputs": [
        {
          "output_type": "stream",
          "text": [
            "Model accuracy (Sklearn) =  57.49999999999999\n"
          ],
          "name": "stdout"
        }
      ]
    }
  ]
}